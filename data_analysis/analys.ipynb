{
 "cells": [
  {
   "cell_type": "code",
   "id": "initial_id",
   "metadata": {
    "collapsed": true,
    "ExecuteTime": {
     "end_time": "2024-09-12T07:00:13.393698Z",
     "start_time": "2024-09-12T07:00:09.757173Z"
    }
   },
   "source": [
    "import pandas as pd\n",
    "import matplotlib.pyplot as plt\n",
    "import numpy as np"
   ],
   "outputs": [],
   "execution_count": 1
  },
  {
   "metadata": {
    "ExecuteTime": {
     "end_time": "2024-09-12T07:08:01.313442Z",
     "start_time": "2024-09-12T07:08:01.278445Z"
    }
   },
   "cell_type": "code",
   "source": [
    "file_path = \"python_jobs.csv\"\n",
    "df = pd.read_csv(file_path)\n",
    "df = df.drop(columns=['link'])\n",
    "df.head()"
   ],
   "id": "ca573b17da064932",
   "outputs": [
    {
     "data": {
      "text/plain": [
       "                              title  exp       company      salary  \\\n",
       "0        Python Developer у Стартап  0-1      ESUPPORT  $1000–2500   \n",
       "1  Стажер Python Developer для УНКД  0-1     ГО \"УНКД\"    $300–500   \n",
       "2           Junior Python розробник  0-1      Apriorit         NaN   \n",
       "3                  Python Developer  0-1     HOLYWATER         NaN   \n",
       "4          Python backend developer  1-3   Receptor.AI         NaN   \n",
       "\n",
       "                         cities  \\\n",
       "0                           NaN   \n",
       "1                     віддалено   \n",
       "2       Київ, Дніпро, віддалено   \n",
       "3  Київ, за кордоном, віддалено   \n",
       "4                     віддалено   \n",
       "\n",
       "                                                tags  \n",
       "0                                      Python,API,AI  \n",
       "1                                         Python,API  \n",
       "2         Python,Flask,Git,SQL,Docker,AWS,Kubernetes  \n",
       "3                                Python,SQL,REST,API  \n",
       "4  Python,Django,Git,SQL,API,Docker,PostgreSQL,AI...  "
      ],
      "text/html": [
       "<div>\n",
       "<style scoped>\n",
       "    .dataframe tbody tr th:only-of-type {\n",
       "        vertical-align: middle;\n",
       "    }\n",
       "\n",
       "    .dataframe tbody tr th {\n",
       "        vertical-align: top;\n",
       "    }\n",
       "\n",
       "    .dataframe thead th {\n",
       "        text-align: right;\n",
       "    }\n",
       "</style>\n",
       "<table border=\"1\" class=\"dataframe\">\n",
       "  <thead>\n",
       "    <tr style=\"text-align: right;\">\n",
       "      <th></th>\n",
       "      <th>title</th>\n",
       "      <th>exp</th>\n",
       "      <th>company</th>\n",
       "      <th>salary</th>\n",
       "      <th>cities</th>\n",
       "      <th>tags</th>\n",
       "    </tr>\n",
       "  </thead>\n",
       "  <tbody>\n",
       "    <tr>\n",
       "      <th>0</th>\n",
       "      <td>Python Developer у Стартап</td>\n",
       "      <td>0-1</td>\n",
       "      <td>ESUPPORT</td>\n",
       "      <td>$1000–2500</td>\n",
       "      <td>NaN</td>\n",
       "      <td>Python,API,AI</td>\n",
       "    </tr>\n",
       "    <tr>\n",
       "      <th>1</th>\n",
       "      <td>Стажер Python Developer для УНКД</td>\n",
       "      <td>0-1</td>\n",
       "      <td>ГО \"УНКД\"</td>\n",
       "      <td>$300–500</td>\n",
       "      <td>віддалено</td>\n",
       "      <td>Python,API</td>\n",
       "    </tr>\n",
       "    <tr>\n",
       "      <th>2</th>\n",
       "      <td>Junior Python розробник</td>\n",
       "      <td>0-1</td>\n",
       "      <td>Apriorit</td>\n",
       "      <td>NaN</td>\n",
       "      <td>Київ, Дніпро, віддалено</td>\n",
       "      <td>Python,Flask,Git,SQL,Docker,AWS,Kubernetes</td>\n",
       "    </tr>\n",
       "    <tr>\n",
       "      <th>3</th>\n",
       "      <td>Python Developer</td>\n",
       "      <td>0-1</td>\n",
       "      <td>HOLYWATER</td>\n",
       "      <td>NaN</td>\n",
       "      <td>Київ, за кордоном, віддалено</td>\n",
       "      <td>Python,SQL,REST,API</td>\n",
       "    </tr>\n",
       "    <tr>\n",
       "      <th>4</th>\n",
       "      <td>Python backend developer</td>\n",
       "      <td>1-3</td>\n",
       "      <td>Receptor.AI</td>\n",
       "      <td>NaN</td>\n",
       "      <td>віддалено</td>\n",
       "      <td>Python,Django,Git,SQL,API,Docker,PostgreSQL,AI...</td>\n",
       "    </tr>\n",
       "  </tbody>\n",
       "</table>\n",
       "</div>"
      ]
     },
     "execution_count": 9,
     "metadata": {},
     "output_type": "execute_result"
    }
   ],
   "execution_count": 9
  },
  {
   "metadata": {
    "ExecuteTime": {
     "end_time": "2024-09-12T07:47:18.003939Z",
     "start_time": "2024-09-12T07:47:17.995510Z"
    }
   },
   "cell_type": "code",
   "source": [
    "df.columns = ['Position', 'Experience', 'Company', 'Salary', 'Location', 'Skills']\n",
    "df.head()"
   ],
   "id": "54800f55e5263b56",
   "outputs": [
    {
     "data": {
      "text/plain": [
       "                           Position Experience       Company      Salary  \\\n",
       "0        Python Developer у Стартап        0-1      ESUPPORT  $1000–2500   \n",
       "1  Стажер Python Developer для УНКД        0-1     ГО \"УНКД\"    $300–500   \n",
       "2           Junior Python розробник        0-1      Apriorit         NaN   \n",
       "3                  Python Developer        0-1     HOLYWATER         NaN   \n",
       "4          Python backend developer        1-3   Receptor.AI         NaN   \n",
       "\n",
       "                       Location  \\\n",
       "0                           NaN   \n",
       "1                     віддалено   \n",
       "2       Київ, Дніпро, віддалено   \n",
       "3  Київ, за кордоном, віддалено   \n",
       "4                     віддалено   \n",
       "\n",
       "                                              Skills  \n",
       "0                                      Python,API,AI  \n",
       "1                                         Python,API  \n",
       "2         Python,Flask,Git,SQL,Docker,AWS,Kubernetes  \n",
       "3                                Python,SQL,REST,API  \n",
       "4  Python,Django,Git,SQL,API,Docker,PostgreSQL,AI...  "
      ],
      "text/html": [
       "<div>\n",
       "<style scoped>\n",
       "    .dataframe tbody tr th:only-of-type {\n",
       "        vertical-align: middle;\n",
       "    }\n",
       "\n",
       "    .dataframe tbody tr th {\n",
       "        vertical-align: top;\n",
       "    }\n",
       "\n",
       "    .dataframe thead th {\n",
       "        text-align: right;\n",
       "    }\n",
       "</style>\n",
       "<table border=\"1\" class=\"dataframe\">\n",
       "  <thead>\n",
       "    <tr style=\"text-align: right;\">\n",
       "      <th></th>\n",
       "      <th>Position</th>\n",
       "      <th>Experience</th>\n",
       "      <th>Company</th>\n",
       "      <th>Salary</th>\n",
       "      <th>Location</th>\n",
       "      <th>Skills</th>\n",
       "    </tr>\n",
       "  </thead>\n",
       "  <tbody>\n",
       "    <tr>\n",
       "      <th>0</th>\n",
       "      <td>Python Developer у Стартап</td>\n",
       "      <td>0-1</td>\n",
       "      <td>ESUPPORT</td>\n",
       "      <td>$1000–2500</td>\n",
       "      <td>NaN</td>\n",
       "      <td>Python,API,AI</td>\n",
       "    </tr>\n",
       "    <tr>\n",
       "      <th>1</th>\n",
       "      <td>Стажер Python Developer для УНКД</td>\n",
       "      <td>0-1</td>\n",
       "      <td>ГО \"УНКД\"</td>\n",
       "      <td>$300–500</td>\n",
       "      <td>віддалено</td>\n",
       "      <td>Python,API</td>\n",
       "    </tr>\n",
       "    <tr>\n",
       "      <th>2</th>\n",
       "      <td>Junior Python розробник</td>\n",
       "      <td>0-1</td>\n",
       "      <td>Apriorit</td>\n",
       "      <td>NaN</td>\n",
       "      <td>Київ, Дніпро, віддалено</td>\n",
       "      <td>Python,Flask,Git,SQL,Docker,AWS,Kubernetes</td>\n",
       "    </tr>\n",
       "    <tr>\n",
       "      <th>3</th>\n",
       "      <td>Python Developer</td>\n",
       "      <td>0-1</td>\n",
       "      <td>HOLYWATER</td>\n",
       "      <td>NaN</td>\n",
       "      <td>Київ, за кордоном, віддалено</td>\n",
       "      <td>Python,SQL,REST,API</td>\n",
       "    </tr>\n",
       "    <tr>\n",
       "      <th>4</th>\n",
       "      <td>Python backend developer</td>\n",
       "      <td>1-3</td>\n",
       "      <td>Receptor.AI</td>\n",
       "      <td>NaN</td>\n",
       "      <td>віддалено</td>\n",
       "      <td>Python,Django,Git,SQL,API,Docker,PostgreSQL,AI...</td>\n",
       "    </tr>\n",
       "  </tbody>\n",
       "</table>\n",
       "</div>"
      ]
     },
     "execution_count": 15,
     "metadata": {},
     "output_type": "execute_result"
    }
   ],
   "execution_count": 15
  },
  {
   "metadata": {
    "ExecuteTime": {
     "end_time": "2024-09-12T07:54:07.761084Z",
     "start_time": "2024-09-12T07:54:07.750312Z"
    }
   },
   "cell_type": "code",
   "source": [
    "import re\n",
    "\n",
    "df.replace('NaN', None, inplace=True)\n",
    "\n",
    "def salary_to_numeric(salary):\n",
    "    if pd.isna(salary):\n",
    "        return None\n",
    "    salary = re.sub(r'[^\\d–]', '', salary)\n",
    "    parts = salary.split('–')\n",
    "    if len(parts) == 2:\n",
    "        try:\n",
    "            return (float(parts[0]) + float(parts[1])) / 2\n",
    "        except ValueError:\n",
    "            return None\n",
    "    elif len(parts) == 1:\n",
    "        try:\n",
    "            return float(parts[0])\n",
    "        except ValueError:\n",
    "            return None\n",
    "    return None\n",
    "\n",
    "df['Salary Numeric'] = df['Salary'].apply(salary_to_numeric)"
   ],
   "id": "8ccf5da1453da49f",
   "outputs": [],
   "execution_count": 23
  },
  {
   "metadata": {
    "ExecuteTime": {
     "end_time": "2024-09-12T07:57:44.881841Z",
     "start_time": "2024-09-12T07:57:44.765749Z"
    }
   },
   "cell_type": "code",
   "source": [
    "plt.figure(figsize=(8, 5))\n",
    "plt.hist(df['Salary Numeric'].dropna(), bins=8, color='skyblue', edgecolor='black')\n",
    "plt.title('Salary Distribution')\n",
    "plt.xlabel('Average Salary ($)')\n",
    "plt.ylabel('Number of Jobs')\n",
    "plt.grid(True)\n",
    "plt.show()"
   ],
   "id": "74b8a7ec2c87ea05",
   "outputs": [
    {
     "data": {
      "text/plain": [
       "<Figure size 800x500 with 1 Axes>"
      ],
      "image/png": "[encoded data removed]"
     },
     "metadata": {},
     "output_type": "display_data"
    }
   ],
   "execution_count": 32
  },
  {
   "metadata": {
    "ExecuteTime": {
     "end_time": "2024-09-12T08:04:34.576073Z",
     "start_time": "2024-09-12T08:04:34.570161Z"
    }
   },
   "cell_type": "code",
   "source": [
    "from collections import Counter\n",
    "\n",
    "skills_list = ','.join(df['Skills'].dropna()).split(',')\n",
    "skills_counter = Counter(skills_list)\n",
    "skills_df = pd.DataFrame(skills_counter.items(), columns=['Skill', 'Count'])\n",
    "skills_df = skills_df.sort_values(by='Count', ascending=False).head(10)"
   ],
   "id": "da9aeafd92765983",
   "outputs": [],
   "execution_count": 40
  },
  {
   "metadata": {
    "ExecuteTime": {
     "end_time": "2024-09-12T07:55:32.136288Z",
     "start_time": "2024-09-12T07:55:32.011031Z"
    }
   },
   "cell_type": "code",
   "source": [
    "plt.figure(figsize=(12, 8))\n",
    "plt.barh(skills_df['Skill'], skills_df['Count'], color='lightcoral', edgecolor='black')\n",
    "plt.title('Top 10 Skills')\n",
    "plt.xlabel('Count')\n",
    "plt.ylabel('Skills')\n",
    "plt.gca().invert_yaxis()\n",
    "plt.grid(axis='x')\n",
    "plt.show()"
   ],
   "id": "b7b510fc8937df71",
   "outputs": [
    {
     "data": {
      "text/plain": [
       "<Figure size 1200x800 with 1 Axes>"
      ],
      "image/png": "[encoded data removed]"
     },
     "metadata": {},
     "output_type": "display_data"
    }
   ],
   "execution_count": 29
  }
 ],
 "metadata": {
  "kernelspec": {
   "display_name": "Python 3",
   "language": "python",
   "name": "python3"
  },
  "language_info": {
   "codemirror_mode": {
    "name": "ipython",
    "version": 2
   },
   "file_extension": ".py",
   "mimetype": "text/x-python",
   "name": "python",
   "nbconvert_exporter": "python",
   "pygments_lexer": "ipython2",
   "version": "2.7.6"
  }
 },
 "nbformat": 4,
 "nbformat_minor": 5
}
